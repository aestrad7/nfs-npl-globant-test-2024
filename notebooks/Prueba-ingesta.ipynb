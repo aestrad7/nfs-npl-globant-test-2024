{
 "cells": [
  {
   "cell_type": "markdown",
   "metadata": {},
   "source": [
    "### Prueba de clase de ingesta importer"
   ]
  },
  {
   "cell_type": "markdown",
   "metadata": {},
   "source": [
    "#### 1.1 Ingesta de datos"
   ]
  },
  {
   "cell_type": "code",
   "execution_count": null,
   "metadata": {},
   "outputs": [],
   "source": [
    "## IMPORTS\n",
    "import sys\n",
    "sys.path.append('C:\\\\Users\\\\user\\\\Desktop\\\\Globant\\\\nfs-npl-globant-test-2024\\\\src\\\\data')\n",
    "sys.path.append('C:\\\\Users\\\\user\\\\Desktop\\\\Globant\\\\nfs-npl-globant-test-2024\\\\src\\\\features')"
   ]
  },
  {
   "cell_type": "code",
   "execution_count": 6,
   "metadata": {},
   "outputs": [
    {
     "name": "stderr",
     "output_type": "stream",
     "text": [
      "c:\\Users\\user\\Desktop\\Globant\\.venv\\Lib\\site-packages\\tqdm\\auto.py:21: TqdmWarning: IProgress not found. Please update jupyter and ipywidgets. See https://ipywidgets.readthedocs.io/en/stable/user_install.html\n",
      "  from .autonotebook import tqdm as notebook_tqdm\n"
     ]
    }
   ],
   "source": [
    "import json\n",
    "import pandas as pd\n",
    "import matplotlib.pyplot as plt\n",
    "import torch\n",
    "\n",
    "from importer import Importer\n",
    "from wordcloud import WordCloud\n",
    "from transformers import BertTokenizer, BertModel\n",
    "\n",
    "# Constants\n",
    "path = 'C:/Users/user/Desktop/Globant/nfs-npl-globant-test-2024/data/raw/'"
   ]
  },
  {
   "cell_type": "code",
   "execution_count": 2,
   "metadata": {},
   "outputs": [
    {
     "name": "stdout",
     "output_type": "stream",
     "text": [
      "13300\n"
     ]
    }
   ],
   "source": [
    "# File names\n",
    "imp = Importer()\n",
    "archivos_full = imp.abstract_names_function(path)\n",
    "print(len(archivos_full))"
   ]
  },
  {
   "cell_type": "code",
   "execution_count": 3,
   "metadata": {},
   "outputs": [
    {
     "name": "stdout",
     "output_type": "stream",
     "text": [
      "archivos:  10640\n",
      "array_view:  ['2050635.xml', '2048977.xml', '2007911.xml', '2035530.xml', '2005444.xml', '2005975.xml', '2015647.xml', '2010708.xml', '2043706.xml', '2033046.xml']\n"
     ]
    }
   ],
   "source": [
    "# Data sampling\n",
    "muestra = imp.abstract_sampler(archivos_full)\n",
    "\n",
    "print(\"archivos: \", len(muestra))\n",
    "print(\"array_view: \",muestra[:10])"
   ]
  },
  {
   "cell_type": "code",
   "execution_count": 4,
   "metadata": {},
   "outputs": [
    {
     "name": "stdout",
     "output_type": "stream",
     "text": [
      "archivos:  2660\n"
     ]
    }
   ],
   "source": [
    "# Sample for test\n",
    "set_orig = set(archivos_full)\n",
    "set_sample = set(muestra)\n",
    "\n",
    "set_test_sample = set_orig-set_sample\n",
    "test_sample = list(set_test_sample)\n",
    "\n",
    "print(\"archivos: \", len(test_sample))"
   ]
  },
  {
   "cell_type": "code",
   "execution_count": 5,
   "metadata": {},
   "outputs": [],
   "source": [
    "# Save Original data\n",
    "with open('./nfs-npl-globant-test-2024/Data-names/train_names.json', 'w') as f:\n",
    "    json.dump(muestra, f)\n",
    "\n",
    "with open('./nfs-npl-globant-test-2024/Data-names/test_names.json', 'w') as f:\n",
    "    json.dump(test_sample, f)\n",
    "\n",
    "# with open('lista.json', 'r') as f:\n",
    "#     lista = json.load(f)"
   ]
  },
  {
   "cell_type": "code",
   "execution_count": null,
   "metadata": {},
   "outputs": [],
   "source": []
  },
  {
   "cell_type": "markdown",
   "metadata": {},
   "source": [
    "#### 1.2 Limpieza de datos"
   ]
  },
  {
   "cell_type": "code",
   "execution_count": 6,
   "metadata": {},
   "outputs": [
    {
     "data": {
      "text/html": [
       "<div>\n",
       "<style scoped>\n",
       "    .dataframe tbody tr th:only-of-type {\n",
       "        vertical-align: middle;\n",
       "    }\n",
       "\n",
       "    .dataframe tbody tr th {\n",
       "        vertical-align: top;\n",
       "    }\n",
       "\n",
       "    .dataframe thead th {\n",
       "        text-align: right;\n",
       "    }\n",
       "</style>\n",
       "<table border=\"1\" class=\"dataframe\">\n",
       "  <thead>\n",
       "    <tr style=\"text-align: right;\">\n",
       "      <th></th>\n",
       "      <th>title</th>\n",
       "      <th>abstract</th>\n",
       "    </tr>\n",
       "  </thead>\n",
       "  <tbody>\n",
       "    <tr>\n",
       "      <th>0</th>\n",
       "      <td>Focusing on Professional Engagement to Increas...</td>\n",
       "      <td>This project aims to serve the national intere...</td>\n",
       "    </tr>\n",
       "    <tr>\n",
       "      <th>1</th>\n",
       "      <td>Collaborative Research: Dignity and the Moveme...</td>\n",
       "      <td>Collaborative Research: Dignity and the Moveme...</td>\n",
       "    </tr>\n",
       "    <tr>\n",
       "      <th>2</th>\n",
       "      <td>CIF: Small: Resource-Efficient Statistical Inf...</td>\n",
       "      <td>Recent years have witnessed tremendous growth ...</td>\n",
       "    </tr>\n",
       "    <tr>\n",
       "      <th>3</th>\n",
       "      <td>RAPID/Collaborative Research: Digitizing Early...</td>\n",
       "      <td>Dinosaur tracks and trackways provide invaluab...</td>\n",
       "    </tr>\n",
       "    <tr>\n",
       "      <th>4</th>\n",
       "      <td>Topics in Kinematics and Geometrical Optics: T...</td>\n",
       "      <td>The proposed research consists of two parts: m...</td>\n",
       "    </tr>\n",
       "  </tbody>\n",
       "</table>\n",
       "</div>"
      ],
      "text/plain": [
       "                                               title  \\\n",
       "0  Focusing on Professional Engagement to Increas...   \n",
       "1  Collaborative Research: Dignity and the Moveme...   \n",
       "2  CIF: Small: Resource-Efficient Statistical Inf...   \n",
       "3  RAPID/Collaborative Research: Digitizing Early...   \n",
       "4  Topics in Kinematics and Geometrical Optics: T...   \n",
       "\n",
       "                                            abstract  \n",
       "0  This project aims to serve the national intere...  \n",
       "1  Collaborative Research: Dignity and the Moveme...  \n",
       "2  Recent years have witnessed tremendous growth ...  \n",
       "3  Dinosaur tracks and trackways provide invaluab...  \n",
       "4  The proposed research consists of two parts: m...  "
      ]
     },
     "metadata": {},
     "output_type": "display_data"
    }
   ],
   "source": [
    "# Extract data and titles\n",
    "df_abstracts = pd.DataFrame([imp.extract_data(path+file) for file in muestra])\n",
    "display(df_abstracts.head())"
   ]
  },
  {
   "cell_type": "code",
   "execution_count": 20,
   "metadata": {},
   "outputs": [
    {
     "data": {
      "text/html": [
       "<div>\n",
       "<style scoped>\n",
       "    .dataframe tbody tr th:only-of-type {\n",
       "        vertical-align: middle;\n",
       "    }\n",
       "\n",
       "    .dataframe tbody tr th {\n",
       "        vertical-align: top;\n",
       "    }\n",
       "\n",
       "    .dataframe thead th {\n",
       "        text-align: right;\n",
       "    }\n",
       "</style>\n",
       "<table border=\"1\" class=\"dataframe\">\n",
       "  <thead>\n",
       "    <tr style=\"text-align: right;\">\n",
       "      <th></th>\n",
       "      <th>title</th>\n",
       "      <th>abstract</th>\n",
       "      <th>clean_abstract</th>\n",
       "    </tr>\n",
       "  </thead>\n",
       "  <tbody>\n",
       "    <tr>\n",
       "      <th>0</th>\n",
       "      <td>Focusing on Professional Engagement to Increas...</td>\n",
       "      <td>This project aims to serve the national intere...</td>\n",
       "      <td>this project aims to serve the national intere...</td>\n",
       "    </tr>\n",
       "    <tr>\n",
       "      <th>1</th>\n",
       "      <td>Collaborative Research: Dignity and the Moveme...</td>\n",
       "      <td>Collaborative Research: Dignity and the Moveme...</td>\n",
       "      <td>collaborative research dignity and the movemen...</td>\n",
       "    </tr>\n",
       "    <tr>\n",
       "      <th>2</th>\n",
       "      <td>CIF: Small: Resource-Efficient Statistical Inf...</td>\n",
       "      <td>Recent years have witnessed tremendous growth ...</td>\n",
       "      <td>recent years have witnessed tremendous growth ...</td>\n",
       "    </tr>\n",
       "    <tr>\n",
       "      <th>3</th>\n",
       "      <td>RAPID/Collaborative Research: Digitizing Early...</td>\n",
       "      <td>Dinosaur tracks and trackways provide invaluab...</td>\n",
       "      <td>dinosaur tracks and trackways provide invaluab...</td>\n",
       "    </tr>\n",
       "    <tr>\n",
       "      <th>4</th>\n",
       "      <td>Topics in Kinematics and Geometrical Optics: T...</td>\n",
       "      <td>The proposed research consists of two parts: m...</td>\n",
       "      <td>the proposed research consists of two parts mo...</td>\n",
       "    </tr>\n",
       "  </tbody>\n",
       "</table>\n",
       "</div>"
      ],
      "text/plain": [
       "                                               title  \\\n",
       "0  Focusing on Professional Engagement to Increas...   \n",
       "1  Collaborative Research: Dignity and the Moveme...   \n",
       "2  CIF: Small: Resource-Efficient Statistical Inf...   \n",
       "3  RAPID/Collaborative Research: Digitizing Early...   \n",
       "4  Topics in Kinematics and Geometrical Optics: T...   \n",
       "\n",
       "                                            abstract  \\\n",
       "0  This project aims to serve the national intere...   \n",
       "1  Collaborative Research: Dignity and the Moveme...   \n",
       "2  Recent years have witnessed tremendous growth ...   \n",
       "3  Dinosaur tracks and trackways provide invaluab...   \n",
       "4  The proposed research consists of two parts: m...   \n",
       "\n",
       "                                      clean_abstract  \n",
       "0  this project aims to serve the national intere...  \n",
       "1  collaborative research dignity and the movemen...  \n",
       "2  recent years have witnessed tremendous growth ...  \n",
       "3  dinosaur tracks and trackways provide invaluab...  \n",
       "4  the proposed research consists of two parts mo...  "
      ]
     },
     "metadata": {},
     "output_type": "display_data"
    }
   ],
   "source": [
    "df_abstracts['clean_abstract'] = df_abstracts['abstract'].apply(imp.clean_text)\n",
    "display(df_abstracts.head())"
   ]
  },
  {
   "cell_type": "code",
   "execution_count": 21,
   "metadata": {},
   "outputs": [],
   "source": [
    "# df_abstracts.to_csv('./nfs-npl-globant-test-2024/Data-names/train_data.csv', index=False)"
   ]
  },
  {
   "cell_type": "markdown",
   "metadata": {},
   "source": []
  },
  {
   "cell_type": "code",
   "execution_count": null,
   "metadata": {},
   "outputs": [],
   "source": []
  }
 ],
 "metadata": {
  "kernelspec": {
   "display_name": ".venv",
   "language": "python",
   "name": "python3"
  },
  "language_info": {
   "codemirror_mode": {
    "name": "ipython",
    "version": 3
   },
   "file_extension": ".py",
   "mimetype": "text/x-python",
   "name": "python",
   "nbconvert_exporter": "python",
   "pygments_lexer": "ipython3",
   "version": "3.11.5"
  }
 },
 "nbformat": 4,
 "nbformat_minor": 2
}
