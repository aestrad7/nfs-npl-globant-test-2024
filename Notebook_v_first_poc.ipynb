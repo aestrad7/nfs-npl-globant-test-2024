{
 "cells": [
  {
   "cell_type": "markdown",
   "metadata": {},
   "source": [
    "## Prueba de concepto sobre segmentacion de abstracts con NLP\n",
    "- "
   ]
  },
  {
   "cell_type": "markdown",
   "metadata": {},
   "source": [
    "#### Mapear los archivos"
   ]
  },
  {
   "cell_type": "code",
   "execution_count": 12,
   "metadata": {},
   "outputs": [
    {
     "ename": "ModuleNotFoundError",
     "evalue": "No module named 'sklearn'",
     "output_type": "error",
     "traceback": [
      "\u001b[1;31m---------------------------------------------------------------------------\u001b[0m",
      "\u001b[1;31mModuleNotFoundError\u001b[0m                       Traceback (most recent call last)",
      "Cell \u001b[1;32mIn[12], line 10\u001b[0m\n\u001b[0;32m      7\u001b[0m \u001b[38;5;28;01mimport\u001b[39;00m \u001b[38;5;21;01mseaborn\u001b[39;00m \u001b[38;5;28;01mas\u001b[39;00m \u001b[38;5;21;01msns\u001b[39;00m\n\u001b[0;32m      8\u001b[0m \u001b[38;5;28;01mimport\u001b[39;00m \u001b[38;5;21;01mxml\u001b[39;00m\u001b[38;5;21;01m.\u001b[39;00m\u001b[38;5;21;01metree\u001b[39;00m\u001b[38;5;21;01m.\u001b[39;00m\u001b[38;5;21;01mElementTree\u001b[39;00m \u001b[38;5;28;01mas\u001b[39;00m \u001b[38;5;21;01mET\u001b[39;00m\n\u001b[1;32m---> 10\u001b[0m \u001b[38;5;28;01mfrom\u001b[39;00m \u001b[38;5;21;01msklearn\u001b[39;00m\u001b[38;5;21;01m.\u001b[39;00m\u001b[38;5;21;01mfeature_extraction\u001b[39;00m\u001b[38;5;21;01m.\u001b[39;00m\u001b[38;5;21;01mtext\u001b[39;00m \u001b[38;5;28;01mimport\u001b[39;00m CountVectorizer\n\u001b[0;32m     12\u001b[0m path \u001b[38;5;241m=\u001b[39m \u001b[38;5;124m'\u001b[39m\u001b[38;5;124mC:/Users/user/Desktop/Globant/T1/2020/\u001b[39m\u001b[38;5;124m'\u001b[39m\n\u001b[0;32m     13\u001b[0m \u001b[38;5;66;03m# sys.path.append(path)\u001b[39;00m\n",
      "\u001b[1;31mModuleNotFoundError\u001b[0m: No module named 'sklearn'"
     ]
    }
   ],
   "source": [
    "import os\n",
    "# import sys\n",
    "import re\n",
    "import random\n",
    "import pandas as pd\n",
    "import matplotlib.pyplot as plt\n",
    "import seaborn as sns\n",
    "import xml.etree.ElementTree as ET\n",
    "\n",
    "from sklearn.feature_extraction.text import CountVectorizer\n",
    "\n",
    "path = 'C:/Users/user/Desktop/Globant/T1/2020/'\n",
    "# sys.path.append(path)"
   ]
  },
  {
   "cell_type": "code",
   "execution_count": 2,
   "metadata": {},
   "outputs": [],
   "source": [
    "#TODO: Dar un comentario a cada funcion\n",
    "def abstract_names_function(path):\n",
    "    \"\"\"\n",
    "    Lista todos los nombres de los archivos en el directorio especificado.\n",
    "\n",
    "    Args:\n",
    "    path (str): La ruta al directorio del que se quieren listar los archivos.\n",
    "\n",
    "    Returns:\n",
    "    list: Una lista con los nombres de todos los archivos en el directorio.\n",
    "    \"\"\"\n",
    "    # Verificar si el directorio existe\n",
    "    if not os.path.exists(path):\n",
    "        return \"El directorio no existe.\"\n",
    "    \n",
    "    # Obtener todos los archivos y subdirectorios en el directorio especificado\n",
    "    nombres_de_archivos = [archivo for archivo in os.listdir(path) if os.path.isfile(os.path.join(path, archivo))]\n",
    "\n",
    "    return nombres_de_archivos\n",
    "\n",
    "def abstract_sampler(full_list, n):\n",
    "    \"\"\"\n",
    "    Selecciona una muestra aleatoria de n elementos de una lista de strings.\n",
    "\n",
    "    Args:\n",
    "    full_list (list): La lista original de strings de la cual seleccionar la muestra.\n",
    "    n (int): El número de elementos a seleccionar.\n",
    "\n",
    "    Returns:\n",
    "    list: Una lista con n elementos seleccionados aleatoriamente de la lista original.\n",
    "    \"\"\"\n",
    "    # Verificar si n es mayor que la longitud de la lista\n",
    "    if n > len(full_list):\n",
    "        return \"Error: n es mayor que el número de elementos en la lista.\"\n",
    "    \n",
    "    # Seleccionar n elementos aleatorios de la lista\n",
    "    muestra_seleccionada = random.sample(full_list, n)\n",
    "    \n",
    "    return muestra_seleccionada\n",
    "\n",
    "def extract_data(file_path):\n",
    "    \"\"\"Función para extraer los datos relevantes de un archivo XML\n",
    "\n",
    "    Args:\n",
    "        file_path (arr): array con los nombres de los archivos en string\n",
    "\n",
    "    Returns:\n",
    "        _dict_: devuelve un diccionario con el titulo y el resumen del archivo\n",
    "    \"\"\"\n",
    "    tree = ET.parse(file_path)\n",
    "    root = tree.getroot()\n",
    "\n",
    "    # Extraer información básica\n",
    "    title = root.find('.//AwardTitle').text if root.find('.//AwardTitle') is not None else \"No Title\"\n",
    "    abstract = root.find('.//AbstractNarration').text if root.find('.//AbstractNarration') is not None else \"No Abstract\"\n",
    "    \n",
    "    return {\n",
    "        \"title\": title,\n",
    "        \"abstract\": abstract\n",
    "    }\n",
    "\n",
    "def clean_text(text): #TODO: Terminar documentacion\n",
    "    \"\"\"Función para limpiar el texto de los resúmenes\n",
    "\n",
    "    Args:\n",
    "        text (_type_): _description_\n",
    "\n",
    "    Returns:\n",
    "        _type_: _description_\n",
    "    \"\"\"\n",
    "    if pd.isna(text):\n",
    "        return \"\"  # Retorna un string vacío si el texto es NaN\n",
    "\n",
    "    # Eliminar etiquetas HTML\n",
    "    text = re.sub(r'<[^>]+>', '', text)\n",
    "    # Eliminar caracteres especiales y números\n",
    "    text = re.sub(r'[^a-zA-Z\\s]', '', text)\n",
    "    # Convertir a minúsculas\n",
    "    text = text.lower()\n",
    "    # Eliminar espacios adicionales\n",
    "    text = re.sub(r'\\s+', ' ', text).strip()\n",
    "\n",
    "    return text"
   ]
  },
  {
   "cell_type": "code",
   "execution_count": 3,
   "metadata": {},
   "outputs": [
    {
     "name": "stdout",
     "output_type": "stream",
     "text": [
      "13300\n"
     ]
    }
   ],
   "source": [
    "# Ejemplo de uso:\n",
    "archivos_full = abstract_names_function(path)\n",
    "print(len(archivos_full))"
   ]
  },
  {
   "cell_type": "code",
   "execution_count": 4,
   "metadata": {},
   "outputs": [
    {
     "name": "stdout",
     "output_type": "stream",
     "text": [
      "archivos:  1000\n",
      "array_view:  ['2010237.xml', '2024238.xml', '2027532.xml', '2047665.xml', '2019074.xml', '2028920.xml', '2004110.xml', '2040575.xml', '2048221.xml', '2018626.xml']\n"
     ]
    }
   ],
   "source": [
    "# Muestreo de la data\n",
    "n = 1000 ## Cerca del 7% de los datos\n",
    "\n",
    "muestra = abstract_sampler(archivos_full, n)\n",
    "\n",
    "print(\"archivos: \", len(muestra))\n",
    "print(\"array_view: \",muestra[:10])"
   ]
  },
  {
   "cell_type": "code",
   "execution_count": 5,
   "metadata": {},
   "outputs": [
    {
     "data": {
      "text/plain": [
       "'C:/Users/user/Desktop/Globant/T1/2020/2010237.xml'"
      ]
     },
     "execution_count": 5,
     "metadata": {},
     "output_type": "execute_result"
    }
   ],
   "source": [
    "path + muestra[0]"
   ]
  },
  {
   "cell_type": "markdown",
   "metadata": {},
   "source": [
    "#### Ingestar la muestra"
   ]
  },
  {
   "cell_type": "code",
   "execution_count": 8,
   "metadata": {},
   "outputs": [
    {
     "data": {
      "text/html": [
       "<div>\n",
       "<style scoped>\n",
       "    .dataframe tbody tr th:only-of-type {\n",
       "        vertical-align: middle;\n",
       "    }\n",
       "\n",
       "    .dataframe tbody tr th {\n",
       "        vertical-align: top;\n",
       "    }\n",
       "\n",
       "    .dataframe thead th {\n",
       "        text-align: right;\n",
       "    }\n",
       "</style>\n",
       "<table border=\"1\" class=\"dataframe\">\n",
       "  <thead>\n",
       "    <tr style=\"text-align: right;\">\n",
       "      <th></th>\n",
       "      <th>title</th>\n",
       "      <th>abstract</th>\n",
       "    </tr>\n",
       "  </thead>\n",
       "  <tbody>\n",
       "    <tr>\n",
       "      <th>0</th>\n",
       "      <td>Collaborative Research: Design Talks: Building...</td>\n",
       "      <td>Inclusion of engineering design activities in ...</td>\n",
       "    </tr>\n",
       "    <tr>\n",
       "      <th>1</th>\n",
       "      <td>Institutional Transformation: VERITIES - Virtu...</td>\n",
       "      <td>This award supports a research project to tran...</td>\n",
       "    </tr>\n",
       "    <tr>\n",
       "      <th>2</th>\n",
       "      <td>Collaborative Research: Flying snakes: fluid m...</td>\n",
       "      <td>There are numerous forms of flight ranging fro...</td>\n",
       "    </tr>\n",
       "    <tr>\n",
       "      <th>3</th>\n",
       "      <td>CAREER: A Keystone for Precision Neutrino Phys...</td>\n",
       "      <td>One of the major intellectual achievements of ...</td>\n",
       "    </tr>\n",
       "    <tr>\n",
       "      <th>4</th>\n",
       "      <td>MRI: Acquisition of a 400 MHz Nuclear Magnetic...</td>\n",
       "      <td>This award is supported by the Major Research ...</td>\n",
       "    </tr>\n",
       "  </tbody>\n",
       "</table>\n",
       "</div>"
      ],
      "text/plain": [
       "                                               title  \\\n",
       "0  Collaborative Research: Design Talks: Building...   \n",
       "1  Institutional Transformation: VERITIES - Virtu...   \n",
       "2  Collaborative Research: Flying snakes: fluid m...   \n",
       "3  CAREER: A Keystone for Precision Neutrino Phys...   \n",
       "4  MRI: Acquisition of a 400 MHz Nuclear Magnetic...   \n",
       "\n",
       "                                            abstract  \n",
       "0  Inclusion of engineering design activities in ...  \n",
       "1  This award supports a research project to tran...  \n",
       "2  There are numerous forms of flight ranging fro...  \n",
       "3  One of the major intellectual achievements of ...  \n",
       "4  This award is supported by the Major Research ...  "
      ]
     },
     "metadata": {},
     "output_type": "display_data"
    }
   ],
   "source": [
    "# Procesar cada archivo y almacenar los resultados en un DataFrame\n",
    "data_list = [extract_data(path+file) for file in muestra]\n",
    "df_abstracts = pd.DataFrame(data_list)\n",
    "\n",
    "display(df_abstracts.head())"
   ]
  },
  {
   "cell_type": "code",
   "execution_count": 9,
   "metadata": {},
   "outputs": [
    {
     "data": {
      "text/html": [
       "<div>\n",
       "<style scoped>\n",
       "    .dataframe tbody tr th:only-of-type {\n",
       "        vertical-align: middle;\n",
       "    }\n",
       "\n",
       "    .dataframe tbody tr th {\n",
       "        vertical-align: top;\n",
       "    }\n",
       "\n",
       "    .dataframe thead th {\n",
       "        text-align: right;\n",
       "    }\n",
       "</style>\n",
       "<table border=\"1\" class=\"dataframe\">\n",
       "  <thead>\n",
       "    <tr style=\"text-align: right;\">\n",
       "      <th></th>\n",
       "      <th>title</th>\n",
       "      <th>abstract</th>\n",
       "      <th>clean_abstract</th>\n",
       "    </tr>\n",
       "  </thead>\n",
       "  <tbody>\n",
       "    <tr>\n",
       "      <th>0</th>\n",
       "      <td>Collaborative Research: Design Talks: Building...</td>\n",
       "      <td>Inclusion of engineering design activities in ...</td>\n",
       "      <td>inclusion of engineering design activities in ...</td>\n",
       "    </tr>\n",
       "    <tr>\n",
       "      <th>1</th>\n",
       "      <td>Institutional Transformation: VERITIES - Virtu...</td>\n",
       "      <td>This award supports a research project to tran...</td>\n",
       "      <td>this award supports a research project to tran...</td>\n",
       "    </tr>\n",
       "    <tr>\n",
       "      <th>2</th>\n",
       "      <td>Collaborative Research: Flying snakes: fluid m...</td>\n",
       "      <td>There are numerous forms of flight ranging fro...</td>\n",
       "      <td>there are numerous forms of flight ranging fro...</td>\n",
       "    </tr>\n",
       "    <tr>\n",
       "      <th>3</th>\n",
       "      <td>CAREER: A Keystone for Precision Neutrino Phys...</td>\n",
       "      <td>One of the major intellectual achievements of ...</td>\n",
       "      <td>one of the major intellectual achievements of ...</td>\n",
       "    </tr>\n",
       "    <tr>\n",
       "      <th>4</th>\n",
       "      <td>MRI: Acquisition of a 400 MHz Nuclear Magnetic...</td>\n",
       "      <td>This award is supported by the Major Research ...</td>\n",
       "      <td>this award is supported by the major research ...</td>\n",
       "    </tr>\n",
       "  </tbody>\n",
       "</table>\n",
       "</div>"
      ],
      "text/plain": [
       "                                               title  \\\n",
       "0  Collaborative Research: Design Talks: Building...   \n",
       "1  Institutional Transformation: VERITIES - Virtu...   \n",
       "2  Collaborative Research: Flying snakes: fluid m...   \n",
       "3  CAREER: A Keystone for Precision Neutrino Phys...   \n",
       "4  MRI: Acquisition of a 400 MHz Nuclear Magnetic...   \n",
       "\n",
       "                                            abstract  \\\n",
       "0  Inclusion of engineering design activities in ...   \n",
       "1  This award supports a research project to tran...   \n",
       "2  There are numerous forms of flight ranging fro...   \n",
       "3  One of the major intellectual achievements of ...   \n",
       "4  This award is supported by the Major Research ...   \n",
       "\n",
       "                                      clean_abstract  \n",
       "0  inclusion of engineering design activities in ...  \n",
       "1  this award supports a research project to tran...  \n",
       "2  there are numerous forms of flight ranging fro...  \n",
       "3  one of the major intellectual achievements of ...  \n",
       "4  this award is supported by the major research ...  "
      ]
     },
     "metadata": {},
     "output_type": "display_data"
    }
   ],
   "source": [
    "# Aplicar la limpieza a los resúmenes\n",
    "df_abstracts['clean_abstract'] = df_abstracts['abstract'].apply(clean_text)\n",
    "\n",
    "display(df_abstracts.head())"
   ]
  },
  {
   "cell_type": "code",
   "execution_count": null,
   "metadata": {},
   "outputs": [],
   "source": []
  },
  {
   "cell_type": "markdown",
   "metadata": {},
   "source": [
    "#### EDA Simple"
   ]
  },
  {
   "cell_type": "code",
   "execution_count": null,
   "metadata": {},
   "outputs": [],
   "source": [
    "\n",
    "\n",
    "# Configurando CountVectorizer para extraer las palabras más frecuentes\n",
    "vectorizer = CountVectorizer(stop_words='english', max_features=20)\n",
    "data_vectorized = vectorizer.fit_transform(df_abstracts['clean_abstract'])\n",
    "\n",
    "# Sumar las frecuencias de cada palabra\n",
    "sum_words = data_vectorized.sum(axis=0) \n",
    "words_freq = [(word, sum_words[0, idx]) for word, idx in vectorizer.vocabulary_.items()]\n",
    "words_freq = sorted(words_freq, key=lambda x: x[1], reverse=True)\n",
    "\n",
    "# Crear un DataFrame con las palabras más comunes\n",
    "df_words = pd.DataFrame(words_freq, columns=['word', 'freq'])\n",
    "\n",
    "# Visualización de las palabras más comunes\n",
    "plt.figure(figsize=(10, 6))\n",
    "sns.barplot(x='freq', y='word', data=df_words)\n",
    "plt.title('Top 20 palabras más frecuentes en los resúmenes')\n",
    "plt.xlabel('Frecuencia')\n",
    "plt.ylabel('Palabra')\n",
    "plt.show()\n"
   ]
  },
  {
   "cell_type": "code",
   "execution_count": null,
   "metadata": {},
   "outputs": [],
   "source": []
  },
  {
   "cell_type": "code",
   "execution_count": null,
   "metadata": {},
   "outputs": [],
   "source": []
  }
 ],
 "metadata": {
  "kernelspec": {
   "display_name": ".venv",
   "language": "python",
   "name": "python3"
  },
  "language_info": {
   "codemirror_mode": {
    "name": "ipython",
    "version": 3
   },
   "file_extension": ".py",
   "mimetype": "text/x-python",
   "name": "python",
   "nbconvert_exporter": "python",
   "pygments_lexer": "ipython3",
   "version": "3.11.5"
  }
 },
 "nbformat": 4,
 "nbformat_minor": 2
}
